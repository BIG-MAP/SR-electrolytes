{
 "cells": [
  {
   "cell_type": "code",
   "execution_count": 46,
   "metadata": {},
   "outputs": [],
   "source": [
    "import numpy as np\n",
    "import pandas as pd\n",
    "import workflows as wf"
   ]
  },
  {
   "cell_type": "code",
   "execution_count": 44,
   "metadata": {},
   "outputs": [],
   "source": [
    "# -------------- TRAINING DATA -------------------\n",
    "\n",
    "def generate_training_data():\n",
    "    \"\"\"Example function to generate toy training set\"\"\"\n",
    "\n",
    "    t_coords = np.linspace(273, 330, 10) #temperature samples\n",
    "    c_coords = np.linspace(0, 3, 10) #concentration samples\n",
    "    b1, b2 = 1e-3, -2e-3 #coefficients\n",
    "\n",
    "    #training dataframe\n",
    "    train_data = pd.DataFrame(data = np.array([np.repeat(t_coords,100), np.hstack(100*(c_coords,))]).T, \n",
    "                            columns=['T', 'c'])\n",
    "\n",
    "    #apply expression to be found via symbolic regression: k = b1*c*t**1.5 + b2*t*c**1.5\n",
    "    train_data['k'] = b1*train_data['c']*train_data['T'].pow(1.5) + b2*train_data['T']*train_data['c'].pow(1.5)\n",
    "    \n",
    "    return train_data\n"
   ]
  },
  {
   "cell_type": "code",
   "execution_count": 5,
   "metadata": {},
   "outputs": [
    {
     "name": "stdout",
     "output_type": "stream",
     "text": [
      "{'data': {'subsample': 0, 'path_data': './data', 'path_data_train': './data/dataset_train.pkl', 'path_data_val': './data/dataset_val.pkl', 'path_data_test': './data/dataset_test.pkl', 'path_results': './results', 'path_eda': './eda', 'random_state': 42}, 'skip': ['Linear_onlyT', 'Poly_2', 'Arrh_onlyT', 'Linear_onlyT', 'Linear', 'Poly_2', 'Poly_3', 'Arrh_onlyT', 'Linear_Arrh', 'Poly2_Arrh', 'Autofeat_1', 'Autofeat_2', 'Autofeat_3', 'Autofeat_4', 'Autofeat_5', 'Autofeat_6', 'Selected_2'], 'models': {'Linear_onlyT': {'scaling': 'standard', 'stdalpha': 1, 'thresshold': None, 'features': ['T'], 'workflow': 'NoGen', 'fit_intercept': True}, 'Linear': {'scaling': 'standard', 'stdalpha': 1, 'thresshold': None, 'features': ['T', 'Li', 'PC'], 'workflow': 'NoGen', 'fit_intercept': True}, 'Poly_2': {'scaling': 'standard', 'stdalpha': 1, 'thresshold': 2, 'features': ['T', 'Li', 'PC'], 'poly_order': 2, 'workflow': 'Poly', 'fit_intercept': True}, 'Poly_3': {'scaling': 'standard', 'stdalpha': 1, 'thresshold': 2, 'features': ['T', 'Li', 'PC'], 'poly_order': 3, 'workflow': 'Poly', 'fit_intercept': True}, 'Arrh_onlyT': {'scaling': 'standard', 'stdalpha': 1, 'thresshold': None, 'features': ['T'], 'workflow': 'NoGenArrh', 'fit_intercept': True}, 'Linear_Arrh': {'scaling': 'standard', 'stdalpha': 1, 'thresshold': None, 'features': ['T', 'Li', 'PC'], 'workflow': 'NoGenArrh', 'fit_intercept': True}, 'Poly2_Arrh': {'scaling': 'standard', 'stdalpha': 1, 'thresshold': 2, 'features': ['T', 'Li', 'PC'], 'poly_order': 2, 'workflow': 'PolyArrh', 'fit_intercept': True}, 'Autofeat_1': {'scaling': 'standard_nomean', 'stdalpha': 1, 'thresshold': 2, 'features': ['T', 'Li', 'PC'], 'feateng_steps': 6, 'units': {'T': '1/K', 'Li': 'mol/kg'}, 'featsel_runs': 5, 'transformations': ['sqrt', 'sqrt'], 'workflow': 'AF', 'fit_intercept': False}, 'Autofeat_2': {'scaling': 'standard_nomean', 'stdalpha': 1, 'thresshold': 2, 'features': ['T', 'Li', 'PC'], 'feateng_steps': 6, 'units': {'T': '1/K', 'Li': 'mol/kg'}, 'featsel_runs': 5, 'transformations': ['1/', '1/'], 'workflow': 'AF', 'fit_intercept': False}, 'Autofeat_3': {'scaling': 'standard_nomean', 'stdalpha': 1, 'thresshold': 2, 'features': ['T', 'Li', 'PC'], 'feateng_steps': 6, 'units': {'T': '1/K', 'Li': 'mol/kg'}, 'featsel_runs': 5, 'transformations': ['^2', '^3'], 'workflow': 'AF', 'fit_intercept': False}, 'Autofeat_4': {'scaling': 'standard_nomean', 'stdalpha': 1, 'thresshold': 2, 'features': ['T', 'Li', 'PC'], 'feateng_steps': 6, 'units': {'T': '1/K', 'Li': 'mol/kg'}, 'featsel_runs': 5, 'transformations': ['exp', 'log'], 'workflow': 'AF', 'fit_intercept': False}, 'Autofeat_5': {'scaling': 'standard_nomean', 'stdalpha': 1, 'thresshold': 2, 'features': ['T', 'Li', 'PC'], 'feateng_steps': 6, 'units': {'T': '1/K', 'Li': 'mol/kg'}, 'featsel_runs': 5, 'transformations': ['1/', 'sqrt'], 'workflow': 'AF', 'fit_intercept': False}, 'Autofeat_6': {'scaling': 'standard_nomean', 'stdalpha': 1, 'thresshold': 2, 'features': ['T', 'Li', 'PC'], 'feateng_steps': 5, 'units': {'T': '1/K', 'Li': 'mol/kg'}, 'featsel_runs': 5, 'transformations': ['^2', '^3', 'exp', 'log'], 'workflow': 'AF', 'fit_intercept': False}, 'Selected_1': {'scaling': 'standard', 'stdalpha': None, 'thresshold': None, 'features': ['T', 'Li', 'PC'], 'selected terms': ['Li', 'Li**(5/2)*sqrt(PC)', 'T', 'T**(3/2)*sqrt(sqrt(Li)*T)'], 'workflow': 'SelectedTerms', 'fit_intercept': False}, 'Selected_2': {'scaling': 'standard', 'stdalpha': None, 'thresshold': None, 'features': ['T', 'Li', 'PC'], 'selected terms': ['Li', 'Li**(5/2)*sqrt(PC)', 'T', 'T**(3/2)*sqrt(sqrt(Li)*T)'], 'workflow': 'SelectedTerms', 'fit_intercept': True}}}\n"
     ]
    }
   ],
   "source": [
    "# --------------  HYPER-PARAMETERS FEATURE GENERATION -------------------\n",
    "\n",
    "#how to scale data. Supported 'standard_nomean', 'standard', 'none'\n",
    "SCALING_TYPE = 'standard_nomean' \n",
    "\n",
    "#whether to leave intercept to vary freely (True) or constrain its value to y0 = 0 (False).\n",
    "FIT_INTERCEPT = False \n",
    "\n",
    "# Autofeat hyperparameter.\n",
    "# number of times features are combined to obtain ever more complex features.\n",
    "# example FEATENG_STEPS = 3 with sqrt transformations will find terms like sqrt(sqrt(sqrt(x)))\n",
    "FEATENG_STEPS = 6\n",
    "\n",
    "# Autofeat hyperparameter.\n",
    "# Units of predictors. Keys must match column names in dataframe. \n",
    "# Ignored predictors are assumed to be dimensionless.\n",
    "UNITS = {\"T\": \"1/K\",\n",
    "        \"c\": \"mol/kg\"}\n",
    "\n",
    "# Autofeat hyperparameter.\n",
    "# Number of iterations for filtering out generated features.\n",
    "FEATSEL_RUNS = 5\n",
    "\n",
    "# Autofeat hyperparameter.\n",
    "# Set of non-linear transformations to be applied to initial predictors.\n",
    "TRANSFORMATIONS = [\"sqrt\", \"^2\"]\n",
    "\n",
    "\n",
    "# --------------  HYPER-PARAMETERS FEATURE SELECTION -------------------\n",
    "\n",
    "# n-standard deviations criterion to choose optimal alpha from Cross Validation. \n",
    "# Higher STD_ALPHA lead to sparser solutions.\n",
    "STD_ALPHA = 1 \n",
    "\n",
    "#t-statistic rejection threshold. Coefficients with t-statistic < REJECTION_THR are rejected.\n",
    "REJECTION_THR = 2 \n"
   ]
  },
  {
   "cell_type": "code",
   "execution_count": null,
   "metadata": {},
   "outputs": [],
   "source": [
    "# ---------------- INSTANTIATE WORKFLOW --------------------------------------\n",
    "workflow = wf.WorkflowAF(feateng_steps = model_specs['feateng_steps'],\n",
    "                        units =  model_specs['units'],\n",
    "                        featsel_runs = model_specs['featsel_runs'],\n",
    "                        transformations = model_specs['transformations'],\n",
    "                        xtrain = dataset_train[model_specs['features']], \n",
    "                        ytrain = dataset_train['σ_mean'], \n",
    "                        scaling_type = model_specs['scaling'],\n",
    "                        stdalpha =  model_specs['stdalpha'], \n",
    "                        rejection_thresshold = model_specs['thresshold'], \n",
    "                        fit_intercept = model_specs['fit_intercept']) "
   ]
  },
  {
   "cell_type": "code",
   "execution_count": null,
   "metadata": {},
   "outputs": [],
   "source": [
    "def load_data():\n",
    "    \"\"\"\n",
    "    Function to load data. In this example data is artificially generated from a function.\n",
    "    However in real use scenarios you might replace this function by another loading your\n",
    "    dataset from disk (e.g. loading a pickle, or a csv)\"\"\"\n",
    "    pass"
   ]
  }
 ],
 "metadata": {
  "interpreter": {
   "hash": "1baa965d5efe3ac65b79dfc60c0d706280b1da80fedb7760faf2759126c4f253"
  },
  "kernelspec": {
   "display_name": "Python 3.8.6 64-bit",
   "language": "python",
   "name": "python3"
  },
  "language_info": {
   "codemirror_mode": {
    "name": "ipython",
    "version": 3
   },
   "file_extension": ".py",
   "mimetype": "text/x-python",
   "name": "python",
   "nbconvert_exporter": "python",
   "pygments_lexer": "ipython3",
   "version": "3.9.1"
  },
  "orig_nbformat": 4
 },
 "nbformat": 4,
 "nbformat_minor": 2
}
