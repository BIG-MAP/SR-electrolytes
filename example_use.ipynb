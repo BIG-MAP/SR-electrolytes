{
 "cells": [
  {
   "cell_type": "code",
   "execution_count": 2,
   "metadata": {},
   "outputs": [],
   "source": [
    "import json"
   ]
  },
  {
   "cell_type": "code",
   "execution_count": 5,
   "metadata": {},
   "outputs": [
    {
     "name": "stdout",
     "output_type": "stream",
     "text": [
      "{'data': {'subsample': 0, 'path_data': './data', 'path_data_train': './data/dataset_train.pkl', 'path_data_val': './data/dataset_val.pkl', 'path_data_test': './data/dataset_test.pkl', 'path_results': './results', 'path_eda': './eda', 'random_state': 42}, 'skip': ['Linear_onlyT', 'Poly_2', 'Arrh_onlyT', 'Linear_onlyT', 'Linear', 'Poly_2', 'Poly_3', 'Arrh_onlyT', 'Linear_Arrh', 'Poly2_Arrh', 'Autofeat_1', 'Autofeat_2', 'Autofeat_3', 'Autofeat_4', 'Autofeat_5', 'Autofeat_6', 'Selected_2'], 'models': {'Linear_onlyT': {'scaling': 'standard', 'stdalpha': 1, 'thresshold': None, 'features': ['T'], 'workflow': 'NoGen', 'fit_intercept': True}, 'Linear': {'scaling': 'standard', 'stdalpha': 1, 'thresshold': None, 'features': ['T', 'Li', 'PC'], 'workflow': 'NoGen', 'fit_intercept': True}, 'Poly_2': {'scaling': 'standard', 'stdalpha': 1, 'thresshold': 2, 'features': ['T', 'Li', 'PC'], 'poly_order': 2, 'workflow': 'Poly', 'fit_intercept': True}, 'Poly_3': {'scaling': 'standard', 'stdalpha': 1, 'thresshold': 2, 'features': ['T', 'Li', 'PC'], 'poly_order': 3, 'workflow': 'Poly', 'fit_intercept': True}, 'Arrh_onlyT': {'scaling': 'standard', 'stdalpha': 1, 'thresshold': None, 'features': ['T'], 'workflow': 'NoGenArrh', 'fit_intercept': True}, 'Linear_Arrh': {'scaling': 'standard', 'stdalpha': 1, 'thresshold': None, 'features': ['T', 'Li', 'PC'], 'workflow': 'NoGenArrh', 'fit_intercept': True}, 'Poly2_Arrh': {'scaling': 'standard', 'stdalpha': 1, 'thresshold': 2, 'features': ['T', 'Li', 'PC'], 'poly_order': 2, 'workflow': 'PolyArrh', 'fit_intercept': True}, 'Autofeat_1': {'scaling': 'standard_nomean', 'stdalpha': 1, 'thresshold': 2, 'features': ['T', 'Li', 'PC'], 'feateng_steps': 6, 'units': {'T': '1/K', 'Li': 'mol/kg'}, 'featsel_runs': 5, 'transformations': ['sqrt', 'sqrt'], 'workflow': 'AF', 'fit_intercept': False}, 'Autofeat_2': {'scaling': 'standard_nomean', 'stdalpha': 1, 'thresshold': 2, 'features': ['T', 'Li', 'PC'], 'feateng_steps': 6, 'units': {'T': '1/K', 'Li': 'mol/kg'}, 'featsel_runs': 5, 'transformations': ['1/', '1/'], 'workflow': 'AF', 'fit_intercept': False}, 'Autofeat_3': {'scaling': 'standard_nomean', 'stdalpha': 1, 'thresshold': 2, 'features': ['T', 'Li', 'PC'], 'feateng_steps': 6, 'units': {'T': '1/K', 'Li': 'mol/kg'}, 'featsel_runs': 5, 'transformations': ['^2', '^3'], 'workflow': 'AF', 'fit_intercept': False}, 'Autofeat_4': {'scaling': 'standard_nomean', 'stdalpha': 1, 'thresshold': 2, 'features': ['T', 'Li', 'PC'], 'feateng_steps': 6, 'units': {'T': '1/K', 'Li': 'mol/kg'}, 'featsel_runs': 5, 'transformations': ['exp', 'log'], 'workflow': 'AF', 'fit_intercept': False}, 'Autofeat_5': {'scaling': 'standard_nomean', 'stdalpha': 1, 'thresshold': 2, 'features': ['T', 'Li', 'PC'], 'feateng_steps': 6, 'units': {'T': '1/K', 'Li': 'mol/kg'}, 'featsel_runs': 5, 'transformations': ['1/', 'sqrt'], 'workflow': 'AF', 'fit_intercept': False}, 'Autofeat_6': {'scaling': 'standard_nomean', 'stdalpha': 1, 'thresshold': 2, 'features': ['T', 'Li', 'PC'], 'feateng_steps': 5, 'units': {'T': '1/K', 'Li': 'mol/kg'}, 'featsel_runs': 5, 'transformations': ['^2', '^3', 'exp', 'log'], 'workflow': 'AF', 'fit_intercept': False}, 'Selected_1': {'scaling': 'standard', 'stdalpha': None, 'thresshold': None, 'features': ['T', 'Li', 'PC'], 'selected terms': ['Li', 'Li**(5/2)*sqrt(PC)', 'T', 'T**(3/2)*sqrt(sqrt(Li)*T)'], 'workflow': 'SelectedTerms', 'fit_intercept': False}, 'Selected_2': {'scaling': 'standard', 'stdalpha': None, 'thresshold': None, 'features': ['T', 'Li', 'PC'], 'selected terms': ['Li', 'Li**(5/2)*sqrt(PC)', 'T', 'T**(3/2)*sqrt(sqrt(Li)*T)'], 'workflow': 'SelectedTerms', 'fit_intercept': True}}}\n"
     ]
    }
   ],
   "source": [
    "# Load file with training configuration\n",
    "with open('training_config.json') as f:\n",
    "    train_config = json.load(f)\n",
    "  "
   ]
  },
  {
   "cell_type": "code",
   "execution_count": null,
   "metadata": {},
   "outputs": [],
   "source": [
    "def load_data():\n",
    "    \"\"\"\n",
    "    Function to load data. In this example data is artificially generated from a function.\n",
    "    However in real use scenarios you might replace this function by another loading your\n",
    "    dataset from disk (e.g. loading a pickle, or a csv)\"\"\"\n",
    "    pass"
   ]
  }
 ],
 "metadata": {
  "interpreter": {
   "hash": "1baa965d5efe3ac65b79dfc60c0d706280b1da80fedb7760faf2759126c4f253"
  },
  "kernelspec": {
   "display_name": "Python 3.8.6 64-bit",
   "language": "python",
   "name": "python3"
  },
  "language_info": {
   "codemirror_mode": {
    "name": "ipython",
    "version": 3
   },
   "file_extension": ".py",
   "mimetype": "text/x-python",
   "name": "python",
   "nbconvert_exporter": "python",
   "pygments_lexer": "ipython3",
   "version": "3.8.6"
  },
  "orig_nbformat": 4
 },
 "nbformat": 4,
 "nbformat_minor": 2
}
