{
 "cells": [
  {
   "cell_type": "code",
   "execution_count": 30,
   "metadata": {},
   "outputs": [],
   "source": [
    "import numpy as np\n",
    "import pandas as pd\n",
    "\n",
    "from bokeh.layouts import column\n",
    "from bokeh.models import CustomJS, Slider, LinearColorMapper, ColorBar\n",
    "from bokeh.plotting import ColumnDataSource, figure,output_file, save, show\n"
   ]
  },
  {
   "cell_type": "code",
   "execution_count": 31,
   "metadata": {},
   "outputs": [],
   "source": [
    "HTML_COLOR = \"#CFD8DC\""
   ]
  },
  {
   "cell_type": "code",
   "execution_count": 32,
   "metadata": {},
   "outputs": [],
   "source": [
    "\n",
    "\n",
    "\n",
    "\n",
    "def prediction_contour_xxformat(c_range, r_range, tempt, npoints=100) -> np.array:\n",
    "\n",
    "    #arrays with predictors\n",
    "    c = np.linspace(c_range[0], c_range[1], npoints)\n",
    "    r = np.linspace(r_range[0], r_range[1], npoints)\n",
    "\n",
    "    #2D arrays with predictors\n",
    "    tt= tempt*np.ones(shape=(npoints, npoints))\n",
    "    cc, rr = np.meshgrid(c, r)\n",
    "\n",
    "\n",
    "    conduct_2d = -5.11*cc - 0.04*tt - 0.35*(cc**(2.5))*(rr**(0.5)) + 0.000273*(tt**(2))*(cc**(0.25))\n",
    "\n",
    "    return c, r, conduct_2d"
   ]
  },
  {
   "cell_type": "code",
   "execution_count": 33,
   "metadata": {},
   "outputs": [
    {
     "data": {
      "text/plain": [
       "array([[ 1.67342538e+00,  1.98684947e+00,  2.25950048e+00, ...,\n",
       "         7.12609402e-01,  6.31944039e-01,  5.50824458e-01],\n",
       "       [ 1.67279613e+00,  1.98597361e+00,  2.25832762e+00, ...,\n",
       "         1.89748306e-01,  9.64321326e-02,  2.47984215e-03],\n",
       "       [ 1.67253548e+00,  1.98561082e+00,  2.25784180e+00, ...,\n",
       "        -2.68278516e-02, -1.25384162e-01, -2.24651935e-01],\n",
       "       ...,\n",
       "       [ 1.66722796e+00,  1.97822327e+00,  2.24794913e+00, ...,\n",
       "        -4.43697519e+00, -4.64223658e+00, -4.84974369e+00],\n",
       "       [ 1.66719609e+00,  1.97817892e+00,  2.24788974e+00, ...,\n",
       "        -4.46345137e+00, -4.66935337e+00, -4.87751029e+00],\n",
       "       [ 1.66716439e+00,  1.97813480e+00,  2.24783065e+00, ...,\n",
       "        -4.48979282e+00, -4.69633216e+00, -4.90513559e+00]])"
      ]
     },
     "execution_count": 33,
     "metadata": {},
     "output_type": "execute_result"
    }
   ],
   "source": [
    "concentr, ratios, predictions2d = prediction_contour_xxformat(c_range=(0.2,3), r_range=(0,1), tempt=273.15)\n",
    "predictions2d"
   ]
  },
  {
   "cell_type": "code",
   "execution_count": 34,
   "metadata": {},
   "outputs": [],
   "source": [
    "def prediction_contour_plot(c_range = (0.2,3) , r_range = (0,1), tempt = 273.15):\n",
    "\n",
    "    # data \n",
    "    # must give a vector of image data for image parameter\n",
    "    concentr, ratios, predictions2d = prediction_contour_xxformat(c_range=c_range, \n",
    "                                                                r_range=r_range, \n",
    "                                                                tempt=tempt, npoints=100)\n",
    "    \n",
    "    \n",
    "\n",
    "    source = ColumnDataSource(data={'image': [predictions2d.tolist()], \n",
    "                                    'x': concentr.tolist(), \n",
    "                                    'y': ratios.tolist(), \n",
    "                                    'dw':[np.subtract(*c_range)],\n",
    "                                    'dh':[np.subtract(*r_range)]})\n",
    "\n",
    "    #colors\n",
    "    color_mapper = LinearColorMapper(palette='Viridis256', low=np.amin(predictions2d), high=np.amax(predictions2d))  \n",
    "\n",
    "    print(color_mapper.__dir__)\n",
    "\n",
    "    cbar = ColorBar(color_mapper = color_mapper, \n",
    "                        title='Conductivity / mS/cm', \n",
    "                        title_text_font_size='18px',\n",
    "                        major_label_text_font_size='18px', \n",
    "                        background_fill_color = HTML_COLOR)\n",
    "\n",
    "\n",
    "\n",
    "    p = figure(plot_width=600,plot_height=400,\n",
    "                x_range=c_range, y_range=r_range, \n",
    "                tooltips=[(\"k [mS/cm]: \", \"@image\")],\n",
    "                border_fill_color = HTML_COLOR)\n",
    "\n",
    "\n",
    "    p.image(image=\"image\", x='x', y='y', source=source, color_mapper=color_mapper, level=\"image\")\n",
    "\n",
    "\n",
    "    #sliders and interactivity\n",
    "    tempt_slider = Slider(start=-30, end=60, value=0, step=1, title=\"Temperature [°C]\")\n",
    "\n",
    "    callback = CustomJS(args=dict(source=source, tempt=tempt_slider, color_bar = cbar, pobj=p),\n",
    "                        code=\"\"\"\n",
    "\n",
    "                        const data = source.data;\n",
    "                        const image = data['image'][0];\n",
    "                        const t = tempt.value + 273.15;\n",
    "                        const x = data['x'];\n",
    "                        const y = data['y'];\n",
    "\n",
    "                        const b1 = -5.11;\n",
    "                        const b2 = -0.04;\n",
    "                        const b3 = -0.35; \n",
    "                        const b4 = 2.73e-4;\n",
    "\n",
    "                        let max = 0;\n",
    "                        let min = 100;\n",
    "                       \n",
    "                        for (var i = 0; i < x.length; i++) {\n",
    "                            for (var j = 0; j < y.length; j++) {\n",
    "                                \n",
    "                                image[j][i] = b1*x[i] + b2*t + b3*(x[i]**(2.5))*(y[j]**(0.5)) + b4*(x[i]**(0.25))*(t**(2));\n",
    "                                \n",
    "                                if (image[j][i] > max) {\n",
    "                                    max = image[j][i];\n",
    "                                };\n",
    "\n",
    "                                if (image[j][i] < min) {                                    \n",
    "                                    min = image[j][i];\n",
    "                                };\n",
    "                            };\n",
    "                        };\n",
    "\n",
    "                        if (min<0) {\n",
    "                            min = 0;\n",
    "                        };\n",
    "\n",
    "                        color_bar.color_mapper.low = min;\n",
    "                        color_bar.color_mapper.high = max;\n",
    "                        source.change.emit();\n",
    "                                \"\"\")\n",
    "\n",
    "\n",
    "    tempt_slider.js_on_change('value', callback)\n",
    "\n",
    "\n",
    "\n",
    "    p.grid.grid_line_width = 0.5\n",
    "    p.xaxis.axis_label = 'Salt concentration / mol/kg'\n",
    "    p.yaxis.axis_label = 'PC:EC ratio'\n",
    "    p.xaxis.major_label_text_font_size = '18px'\n",
    "    p.xaxis.axis_label_text_font_size = '20px'\n",
    "    p.yaxis.major_label_text_font_size = '18px'\n",
    "    p.yaxis.axis_label_text_font_size = '20px'\n",
    "    p.add_layout(cbar, 'right')\n",
    "\n",
    "    layout = column(tempt_slider,p)\n",
    "\n",
    "\n",
    "    return layout\n",
    "\n",
    "\n",
    "\n",
    "    "
   ]
  },
  {
   "cell_type": "code",
   "execution_count": 35,
   "metadata": {},
   "outputs": [
    {
     "name": "stderr",
     "output_type": "stream",
     "text": [
      "BokehUserWarning: ColumnDataSource's columns must be of the same length. Current lengths: ('dh', 1), ('dw', 1), ('image', 1), ('x', 100), ('y', 100)\n"
     ]
    },
    {
     "name": "stdout",
     "output_type": "stream",
     "text": [
      "<built-in method __dir__ of LinearColorMapper object at 0x0000019C0221D640>\n"
     ]
    },
    {
     "data": {
      "text/plain": [
       "'c:\\\\Users\\\\eibfl\\\\Nextcloud\\\\documents\\\\WP11_ML\\\\Electrolytes\\\\SR-electrolytes\\\\docs\\\\static\\\\standalone_app.html'"
      ]
     },
     "execution_count": 35,
     "metadata": {},
     "output_type": "execute_result"
    }
   ],
   "source": [
    "output_file('./static/standalone_app.html')\n",
    "layout = prediction_contour_plot()\n",
    "show(layout)\n",
    "save(layout)"
   ]
  }
 ],
 "metadata": {
  "interpreter": {
   "hash": "7452766889e9eb9af4522d4c402e04af10f06b785458780d39c79b75a28ae0f0"
  },
  "kernelspec": {
   "display_name": "Python 3.9.1 ('htelectr')",
   "language": "python",
   "name": "python3"
  },
  "language_info": {
   "codemirror_mode": {
    "name": "ipython",
    "version": 3
   },
   "file_extension": ".py",
   "mimetype": "text/x-python",
   "name": "python",
   "nbconvert_exporter": "python",
   "pygments_lexer": "ipython3",
   "version": "3.9.1"
  },
  "orig_nbformat": 4
 },
 "nbformat": 4,
 "nbformat_minor": 2
}
