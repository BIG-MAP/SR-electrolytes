{
 "cells": [
  {
   "cell_type": "code",
   "execution_count": 46,
   "metadata": {},
   "outputs": [],
   "source": [
    "import numpy as np\n",
    "import pandas as pd\n",
    "\n",
    "from bokeh.layouts import column\n",
    "from bokeh.models import CustomJS, Slider, LinearColorMapper, ColorBar\n",
    "from bokeh.plotting import ColumnDataSource, figure,output_file, save, show\n"
   ]
  },
  {
   "cell_type": "code",
   "execution_count": 38,
   "metadata": {},
   "outputs": [],
   "source": [
    "\n",
    "\n",
    "\n",
    "\n",
    "def prediction_contour_xxformat(c_range, r_range, tempt, npoints=100) -> np.array:\n",
    "\n",
    "    #arrays with predictors\n",
    "    c = np.linspace(c_range[0], c_range[1], npoints)\n",
    "    r = np.linspace(r_range[0], r_range[1], npoints)\n",
    "\n",
    "    #2D arrays with predictors\n",
    "    tt= tempt*np.ones(shape=(npoints, npoints))\n",
    "    cc, rr = np.meshgrid(c, r)\n",
    "\n",
    "\n",
    "    conduct_2d = -5.11*cc - 0.04*tt - 0.35*(cc**(2.5))*(rr**(0.5)) + 0.000273*(tt**(2))*(cc**(0.25))\n",
    "\n",
    "    return c, r, conduct_2d"
   ]
  },
  {
   "cell_type": "code",
   "execution_count": 39,
   "metadata": {},
   "outputs": [
    {
     "data": {
      "text/plain": [
       "array([[ 1.67342538e+00,  1.98684947e+00,  2.25950048e+00, ...,\n",
       "         7.12609402e-01,  6.31944039e-01,  5.50824458e-01],\n",
       "       [ 1.67279613e+00,  1.98597361e+00,  2.25832762e+00, ...,\n",
       "         1.89748306e-01,  9.64321326e-02,  2.47984215e-03],\n",
       "       [ 1.67253548e+00,  1.98561082e+00,  2.25784180e+00, ...,\n",
       "        -2.68278516e-02, -1.25384162e-01, -2.24651935e-01],\n",
       "       ...,\n",
       "       [ 1.66722796e+00,  1.97822327e+00,  2.24794913e+00, ...,\n",
       "        -4.43697519e+00, -4.64223658e+00, -4.84974369e+00],\n",
       "       [ 1.66719609e+00,  1.97817892e+00,  2.24788974e+00, ...,\n",
       "        -4.46345137e+00, -4.66935337e+00, -4.87751029e+00],\n",
       "       [ 1.66716439e+00,  1.97813480e+00,  2.24783065e+00, ...,\n",
       "        -4.48979282e+00, -4.69633216e+00, -4.90513559e+00]])"
      ]
     },
     "execution_count": 39,
     "metadata": {},
     "output_type": "execute_result"
    }
   ],
   "source": [
    "concentr, ratios, predictions2d = prediction_contour_xxformat(c_range=(0.2,3), r_range=(0,1), tempt=273.15)\n",
    "predictions2d"
   ]
  },
  {
   "cell_type": "code",
   "execution_count": 67,
   "metadata": {},
   "outputs": [],
   "source": [
    "def prediction_contour_plot(c_range = (0.2,3) , r_range = (0,1), tempt = 273.15):\n",
    "\n",
    "    # data \n",
    "    # must give a vector of image data for image parameter\n",
    "    concentr, ratios, predictions2d = prediction_contour_xxformat(c_range=c_range, \n",
    "                                                                r_range=r_range, \n",
    "                                                                tempt=tempt, npoints=100)\n",
    "    \n",
    "    \n",
    "\n",
    "    source = ColumnDataSource(data={'image': [predictions2d.tolist()], \n",
    "                                    'x': concentr.tolist(), \n",
    "                                    'y': ratios.tolist(), \n",
    "                                    'dw':[np.subtract(*c_range)],\n",
    "                                    'dh':[np.subtract(*r_range)]})\n",
    "\n",
    "    #colors\n",
    "    color_mapper = LinearColorMapper(palette='Viridis256', low=np.amin(predictions2d), high=np.amax(predictions2d))  \n",
    "\n",
    "    print(color_mapper.__dir__)\n",
    "\n",
    "    cbar = ColorBar(color_mapper = color_mapper, \n",
    "                        title='Conductivity / mS/cm', \n",
    "                        title_text_font_size='18px',\n",
    "                        major_label_text_font_size='18px')\n",
    "\n",
    "\n",
    "\n",
    "    p = figure(plot_width=600,plot_height=400,\n",
    "                x_range=c_range, y_range=r_range, \n",
    "                tooltips=[(\"k [mS/cm]: \", \"@image\")])\n",
    "\n",
    "\n",
    "    p.image(image=\"image\", x='x', y='y', source=source, color_mapper=color_mapper, level=\"image\")\n",
    "\n",
    "\n",
    "    #sliders and interactivity\n",
    "    tempt_slider = Slider(start=-30, end=60, value=0, step=1, title=\"Temperature [°C]\")\n",
    "\n",
    "    callback = CustomJS(args=dict(source=source, tempt=tempt_slider, color_bar = cbar, pobj=p),\n",
    "                        code=\"\"\"\n",
    "\n",
    "                        const data = source.data;\n",
    "                        const image = data['image'][0];\n",
    "                        const t = tempt.value + 273.15;\n",
    "                        const x = data['x'];\n",
    "                        const y = data['y'];\n",
    "\n",
    "                        const b1 = -5.11;\n",
    "                        const b2 = -0.04;\n",
    "                        const b3 = -0.35; \n",
    "                        const b4 = 2.73e-4;\n",
    "\n",
    "                        let max = 0;\n",
    "                        let min = 100;\n",
    "                       \n",
    "                        for (var i = 0; i < x.length; i++) {\n",
    "                            for (var j = 0; j < y.length; j++) {\n",
    "                                \n",
    "                                image[j][i] = b1*x[i] + b2*t + b3*(x[i]**(2.5))*(y[j]**(0.5)) + b4*(x[i]**(0.25))*(t**(2));\n",
    "                                \n",
    "                                if (image[j][i] > max) {\n",
    "                                    max = image[j][i];\n",
    "                                };\n",
    "\n",
    "                                if (image[j][i] < min) {                                    \n",
    "                                    min = image[j][i];\n",
    "                                };\n",
    "                            };\n",
    "                        };\n",
    "\n",
    "                        if (min<0) {\n",
    "                            min = 0;\n",
    "                        };\n",
    "\n",
    "                        color_bar.color_mapper.low = min;\n",
    "                        color_bar.color_mapper.high = max;\n",
    "                        source.change.emit();\n",
    "                                \"\"\")\n",
    "\n",
    "\n",
    "    tempt_slider.js_on_change('value', callback)\n",
    "\n",
    "\n",
    "\n",
    "    p.grid.grid_line_width = 0.5\n",
    "    p.xaxis.axis_label = 'Salt concentration / mol/kg'\n",
    "    p.yaxis.axis_label = 'PC:EC ratio'\n",
    "    p.xaxis.major_label_text_font_size = '18px'\n",
    "    p.xaxis.axis_label_text_font_size = '20px'\n",
    "    p.yaxis.major_label_text_font_size = '18px'\n",
    "    p.yaxis.axis_label_text_font_size = '20px'\n",
    "    p.add_layout(cbar, 'right')\n",
    "\n",
    "    layout = column(tempt_slider,p)\n",
    "\n",
    "\n",
    "    return layout\n",
    "\n",
    "\n",
    "\n",
    "    "
   ]
  },
  {
   "cell_type": "code",
   "execution_count": 68,
   "metadata": {},
   "outputs": [
    {
     "name": "stdout",
     "output_type": "stream",
     "text": [
      "<built-in method __dir__ of LinearColorMapper object at 0x0000028E76316340>\n"
     ]
    },
    {
     "name": "stderr",
     "output_type": "stream",
     "text": [
      "BokehUserWarning: ColumnDataSource's columns must be of the same length. Current lengths: ('dh', 1), ('dw', 1), ('image', 1), ('x', 100), ('y', 100)\n"
     ]
    },
    {
     "ename": "FileNotFoundError",
     "evalue": "[Errno 2] No such file or directory: './docs/static/standalone_app.html'",
     "output_type": "error",
     "traceback": [
      "\u001b[1;31m---------------------------------------------------------------------------\u001b[0m",
      "\u001b[1;31mFileNotFoundError\u001b[0m                         Traceback (most recent call last)",
      "\u001b[1;32m~\\AppData\\Local\\Temp/ipykernel_7568/2520205878.py\u001b[0m in \u001b[0;36m<module>\u001b[1;34m\u001b[0m\n\u001b[0;32m      1\u001b[0m \u001b[0moutput_file\u001b[0m\u001b[1;33m(\u001b[0m\u001b[1;34m'./docs/static/standalone_app.html'\u001b[0m\u001b[1;33m)\u001b[0m\u001b[1;33m\u001b[0m\u001b[1;33m\u001b[0m\u001b[0m\n\u001b[0;32m      2\u001b[0m \u001b[0mlayout\u001b[0m \u001b[1;33m=\u001b[0m \u001b[0mprediction_contour_plot\u001b[0m\u001b[1;33m(\u001b[0m\u001b[1;33m)\u001b[0m\u001b[1;33m\u001b[0m\u001b[1;33m\u001b[0m\u001b[0m\n\u001b[1;32m----> 3\u001b[1;33m \u001b[0mshow\u001b[0m\u001b[1;33m(\u001b[0m\u001b[0mlayout\u001b[0m\u001b[1;33m)\u001b[0m\u001b[1;33m\u001b[0m\u001b[1;33m\u001b[0m\u001b[0m\n\u001b[0m\u001b[0;32m      4\u001b[0m \u001b[0msave\u001b[0m\u001b[1;33m(\u001b[0m\u001b[0mlayout\u001b[0m\u001b[1;33m)\u001b[0m\u001b[1;33m\u001b[0m\u001b[1;33m\u001b[0m\u001b[0m\n",
      "\u001b[1;32m~\\Miniconda3\\envs\\htelectr\\lib\\site-packages\\bokeh\\io\\showing.py\u001b[0m in \u001b[0;36mshow\u001b[1;34m(obj, browser, new, notebook_handle, notebook_url, **kwargs)\u001b[0m\n\u001b[0;32m    142\u001b[0m \u001b[1;33m\u001b[0m\u001b[0m\n\u001b[0;32m    143\u001b[0m     \u001b[1;32mif\u001b[0m \u001b[0misinstance\u001b[0m\u001b[1;33m(\u001b[0m\u001b[0mobj\u001b[0m\u001b[1;33m,\u001b[0m \u001b[0mLayoutDOM\u001b[0m\u001b[1;33m)\u001b[0m\u001b[1;33m:\u001b[0m\u001b[1;33m\u001b[0m\u001b[1;33m\u001b[0m\u001b[0m\n\u001b[1;32m--> 144\u001b[1;33m         \u001b[1;32mreturn\u001b[0m \u001b[0m_show_with_state\u001b[0m\u001b[1;33m(\u001b[0m\u001b[0mobj\u001b[0m\u001b[1;33m,\u001b[0m \u001b[0mstate\u001b[0m\u001b[1;33m,\u001b[0m \u001b[0mbrowser\u001b[0m\u001b[1;33m,\u001b[0m \u001b[0mnew\u001b[0m\u001b[1;33m,\u001b[0m \u001b[0mnotebook_handle\u001b[0m\u001b[1;33m=\u001b[0m\u001b[0mnotebook_handle\u001b[0m\u001b[1;33m)\u001b[0m\u001b[1;33m\u001b[0m\u001b[1;33m\u001b[0m\u001b[0m\n\u001b[0m\u001b[0;32m    145\u001b[0m \u001b[1;33m\u001b[0m\u001b[0m\n\u001b[0;32m    146\u001b[0m     \u001b[1;32mdef\u001b[0m \u001b[0mis_application\u001b[0m\u001b[1;33m(\u001b[0m\u001b[0mobj\u001b[0m\u001b[1;33m:\u001b[0m \u001b[0mAny\u001b[0m\u001b[1;33m)\u001b[0m \u001b[1;33m->\u001b[0m \u001b[0mTypeGuard\u001b[0m\u001b[1;33m[\u001b[0m\u001b[0mApplication\u001b[0m\u001b[1;33m]\u001b[0m\u001b[1;33m:\u001b[0m\u001b[1;33m\u001b[0m\u001b[1;33m\u001b[0m\u001b[0m\n",
      "\u001b[1;32m~\\Miniconda3\\envs\\htelectr\\lib\\site-packages\\bokeh\\io\\showing.py\u001b[0m in \u001b[0;36m_show_with_state\u001b[1;34m(obj, state, browser, new, notebook_handle)\u001b[0m\n\u001b[0;32m    193\u001b[0m \u001b[1;33m\u001b[0m\u001b[0m\n\u001b[0;32m    194\u001b[0m     \u001b[1;32mif\u001b[0m \u001b[0mstate\u001b[0m\u001b[1;33m.\u001b[0m\u001b[0mfile\u001b[0m \u001b[1;32mor\u001b[0m \u001b[1;32mnot\u001b[0m \u001b[0mshown\u001b[0m\u001b[1;33m:\u001b[0m\u001b[1;33m\u001b[0m\u001b[1;33m\u001b[0m\u001b[0m\n\u001b[1;32m--> 195\u001b[1;33m         \u001b[0m_show_file_with_state\u001b[0m\u001b[1;33m(\u001b[0m\u001b[0mobj\u001b[0m\u001b[1;33m,\u001b[0m \u001b[0mstate\u001b[0m\u001b[1;33m,\u001b[0m \u001b[0mnew\u001b[0m\u001b[1;33m,\u001b[0m \u001b[0mcontroller\u001b[0m\u001b[1;33m)\u001b[0m\u001b[1;33m\u001b[0m\u001b[1;33m\u001b[0m\u001b[0m\n\u001b[0m\u001b[0;32m    196\u001b[0m \u001b[1;33m\u001b[0m\u001b[0m\n\u001b[0;32m    197\u001b[0m     \u001b[1;32mreturn\u001b[0m \u001b[0mcomms_handle\u001b[0m\u001b[1;33m\u001b[0m\u001b[1;33m\u001b[0m\u001b[0m\n",
      "\u001b[1;32m~\\Miniconda3\\envs\\htelectr\\lib\\site-packages\\bokeh\\io\\showing.py\u001b[0m in \u001b[0;36m_show_file_with_state\u001b[1;34m(obj, state, new, controller)\u001b[0m\n\u001b[0;32m    174\u001b[0m \u001b[1;33m\u001b[0m\u001b[0m\n\u001b[0;32m    175\u001b[0m     '''\n\u001b[1;32m--> 176\u001b[1;33m     \u001b[0mfilename\u001b[0m \u001b[1;33m=\u001b[0m \u001b[0msave\u001b[0m\u001b[1;33m(\u001b[0m\u001b[0mobj\u001b[0m\u001b[1;33m,\u001b[0m \u001b[0mstate\u001b[0m\u001b[1;33m=\u001b[0m\u001b[0mstate\u001b[0m\u001b[1;33m)\u001b[0m\u001b[1;33m\u001b[0m\u001b[1;33m\u001b[0m\u001b[0m\n\u001b[0m\u001b[0;32m    177\u001b[0m     \u001b[0mcontroller\u001b[0m\u001b[1;33m.\u001b[0m\u001b[0mopen\u001b[0m\u001b[1;33m(\u001b[0m\u001b[1;34m\"file://\"\u001b[0m \u001b[1;33m+\u001b[0m \u001b[0mfilename\u001b[0m\u001b[1;33m,\u001b[0m \u001b[0mnew\u001b[0m\u001b[1;33m=\u001b[0m\u001b[0mNEW_PARAM\u001b[0m\u001b[1;33m[\u001b[0m\u001b[0mnew\u001b[0m\u001b[1;33m]\u001b[0m\u001b[1;33m)\u001b[0m\u001b[1;33m\u001b[0m\u001b[1;33m\u001b[0m\u001b[0m\n\u001b[0;32m    178\u001b[0m \u001b[1;33m\u001b[0m\u001b[0m\n",
      "\u001b[1;32m~\\Miniconda3\\envs\\htelectr\\lib\\site-packages\\bokeh\\io\\saving.py\u001b[0m in \u001b[0;36msave\u001b[1;34m(obj, filename, resources, title, template, state)\u001b[0m\n\u001b[0;32m     96\u001b[0m \u001b[1;33m\u001b[0m\u001b[0m\n\u001b[0;32m     97\u001b[0m     \u001b[0mfilename\u001b[0m\u001b[1;33m,\u001b[0m \u001b[0mresources\u001b[0m\u001b[1;33m,\u001b[0m \u001b[0mtitle\u001b[0m \u001b[1;33m=\u001b[0m \u001b[0m_get_save_args\u001b[0m\u001b[1;33m(\u001b[0m\u001b[0mstate\u001b[0m\u001b[1;33m,\u001b[0m \u001b[0mfilename\u001b[0m\u001b[1;33m,\u001b[0m \u001b[0mresources\u001b[0m\u001b[1;33m,\u001b[0m \u001b[0mtitle\u001b[0m\u001b[1;33m)\u001b[0m\u001b[1;33m\u001b[0m\u001b[1;33m\u001b[0m\u001b[0m\n\u001b[1;32m---> 98\u001b[1;33m     \u001b[0m_save_helper\u001b[0m\u001b[1;33m(\u001b[0m\u001b[0mobj\u001b[0m\u001b[1;33m,\u001b[0m \u001b[0mfilename\u001b[0m\u001b[1;33m,\u001b[0m \u001b[0mresources\u001b[0m\u001b[1;33m,\u001b[0m \u001b[0mtitle\u001b[0m\u001b[1;33m,\u001b[0m \u001b[0mtemplate\u001b[0m\u001b[1;33m,\u001b[0m \u001b[0mtheme\u001b[0m\u001b[1;33m)\u001b[0m\u001b[1;33m\u001b[0m\u001b[1;33m\u001b[0m\u001b[0m\n\u001b[0m\u001b[0;32m     99\u001b[0m     \u001b[1;32mreturn\u001b[0m \u001b[0mabspath\u001b[0m\u001b[1;33m(\u001b[0m\u001b[0mfilename\u001b[0m\u001b[1;33m)\u001b[0m\u001b[1;33m\u001b[0m\u001b[1;33m\u001b[0m\u001b[0m\n\u001b[0;32m    100\u001b[0m \u001b[1;33m\u001b[0m\u001b[0m\n",
      "\u001b[1;32m~\\Miniconda3\\envs\\htelectr\\lib\\site-packages\\bokeh\\io\\saving.py\u001b[0m in \u001b[0;36m_save_helper\u001b[1;34m(obj, filename, resources, title, template, theme)\u001b[0m\n\u001b[0;32m    164\u001b[0m     \u001b[0mhtml\u001b[0m \u001b[1;33m=\u001b[0m \u001b[0mfile_html\u001b[0m\u001b[1;33m(\u001b[0m\u001b[0mobj\u001b[0m\u001b[1;33m,\u001b[0m \u001b[0mresources\u001b[0m\u001b[1;33m,\u001b[0m \u001b[0mtitle\u001b[0m\u001b[1;33m=\u001b[0m\u001b[0mtitle\u001b[0m\u001b[1;33m,\u001b[0m \u001b[0mtemplate\u001b[0m\u001b[1;33m=\u001b[0m\u001b[0mtemplate\u001b[0m \u001b[1;32mor\u001b[0m \u001b[0mFILE\u001b[0m\u001b[1;33m,\u001b[0m \u001b[0mtheme\u001b[0m\u001b[1;33m=\u001b[0m\u001b[0mtheme\u001b[0m\u001b[1;33m)\u001b[0m\u001b[1;33m\u001b[0m\u001b[1;33m\u001b[0m\u001b[0m\n\u001b[0;32m    165\u001b[0m \u001b[1;33m\u001b[0m\u001b[0m\n\u001b[1;32m--> 166\u001b[1;33m     \u001b[1;32mwith\u001b[0m \u001b[0mopen\u001b[0m\u001b[1;33m(\u001b[0m\u001b[0mfilename\u001b[0m\u001b[1;33m,\u001b[0m \u001b[0mmode\u001b[0m\u001b[1;33m=\u001b[0m\u001b[1;34m\"w\"\u001b[0m\u001b[1;33m,\u001b[0m \u001b[0mencoding\u001b[0m\u001b[1;33m=\u001b[0m\u001b[1;34m\"utf-8\"\u001b[0m\u001b[1;33m)\u001b[0m \u001b[1;32mas\u001b[0m \u001b[0mf\u001b[0m\u001b[1;33m:\u001b[0m\u001b[1;33m\u001b[0m\u001b[1;33m\u001b[0m\u001b[0m\n\u001b[0m\u001b[0;32m    167\u001b[0m         \u001b[0mf\u001b[0m\u001b[1;33m.\u001b[0m\u001b[0mwrite\u001b[0m\u001b[1;33m(\u001b[0m\u001b[0mhtml\u001b[0m\u001b[1;33m)\u001b[0m\u001b[1;33m\u001b[0m\u001b[1;33m\u001b[0m\u001b[0m\n\u001b[0;32m    168\u001b[0m \u001b[1;33m\u001b[0m\u001b[0m\n",
      "\u001b[1;31mFileNotFoundError\u001b[0m: [Errno 2] No such file or directory: './docs/static/standalone_app.html'"
     ]
    }
   ],
   "source": [
    "output_file('./static/standalone_app.html')\n",
    "layout = prediction_contour_plot()\n",
    "show(layout)\n",
    "save(layout)"
   ]
  }
 ],
 "metadata": {
  "interpreter": {
   "hash": "7452766889e9eb9af4522d4c402e04af10f06b785458780d39c79b75a28ae0f0"
  },
  "kernelspec": {
   "display_name": "Python 3.9.1 ('htelectr')",
   "language": "python",
   "name": "python3"
  },
  "language_info": {
   "codemirror_mode": {
    "name": "ipython",
    "version": 3
   },
   "file_extension": ".py",
   "mimetype": "text/x-python",
   "name": "python",
   "nbconvert_exporter": "python",
   "pygments_lexer": "ipython3",
   "version": "3.9.1"
  },
  "orig_nbformat": 4
 },
 "nbformat": 4,
 "nbformat_minor": 2
}
